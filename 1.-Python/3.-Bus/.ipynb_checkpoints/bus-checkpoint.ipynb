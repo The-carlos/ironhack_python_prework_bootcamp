{
 "cells": [
  {
   "cell_type": "markdown",
   "metadata": {},
   "source": [
    "<img src=\"https://bit.ly/2VnXWr2\" width=\"100\" align=\"left\">"
   ]
  },
  {
   "cell_type": "markdown",
   "metadata": {},
   "source": [
    "# Bus\n",
    "\n",
    "This bus has a passenger entry and exit control system to monitor the number of occupants it carries and thus detect when there are too many.\n",
    "\n",
    "At each stop, the entry and exit of passengers is represented by a tuple consisting of two integer numbers.\n",
    "```\n",
    "bus_stop = (in, out)\n",
    "```\n",
    "The succession of stops is represented by a list of these tuples.\n",
    "```\n",
    "stops = [(in1, out1), (in2, out2), (in3, out3), (in4, out4)]\n",
    "```\n",
    "\n",
    "## Tools\n",
    "You don't necessarily need to use all the tools. Maybe you opt to use some of them or completely different ones, they are given to help you shape the exercise. Programming exercises can be solved in many different ways.\n",
    "* Data structures: **lists, tuples**\n",
    "* Loop: **while/for loops**\n",
    "* Functions: **min, max, len**\n",
    "\n",
    "## Tasks"
   ]
  },
  {
   "cell_type": "code",
   "execution_count": 1,
   "metadata": {},
   "outputs": [],
   "source": [
    "# Variables\n",
    "stops = [(10, 0), (4, 1), (3, 5), (3, 4), (5, 1), (1, 5), (5, 8), (4, 6), (2, 3)]"
   ]
  },
  {
   "cell_type": "markdown",
   "metadata": {},
   "source": [
    "#### 1. Calculate the number of stops."
   ]
  },
  {
   "cell_type": "code",
   "execution_count": 2,
   "metadata": {},
   "outputs": [
    {
     "name": "stdout",
     "output_type": "stream",
     "text": [
      "The number of stops was: 9.\n"
     ]
    }
   ],
   "source": [
    "print(f'The number of stops was: {len(stops)}.')"
   ]
  },
  {
   "cell_type": "markdown",
   "metadata": {},
   "source": [
    "#### 2. Assign to a variable a list whose elements are the number of passengers at each stop (in-out).\n",
    "Each item depends on the previous item in the list + in - out."
   ]
  },
  {
   "cell_type": "code",
   "execution_count": 3,
   "metadata": {},
   "outputs": [
    {
     "name": "stdout",
     "output_type": "stream",
     "text": [
      "The number of passenger picked was:[10, 4, 3, 3, 5, 1, 5, 4, 2]\n",
      "The number of passenger descending: [0, 1, 5, 4, 1, 5, 8, 6, 3]\n",
      "[10, 13, 11, 10, 14, 10, 7, 5, 4]\n"
     ]
    }
   ],
   "source": [
    "passengers_in = []\n",
    "passengers_out = []\n",
    "ins_outs_per_departure = []\n",
    "bus_capacity = []\n",
    "\n",
    "for stop in stops:\n",
    "    for passengers in stop:\n",
    "        ins_outs_per_departure.append(passengers)\n",
    "\n",
    "for i in range(len(ins_outs_per_departure)):\n",
    "    if(i%2==0):\n",
    "        passengers_in.append(ins_outs_per_departure[i])\n",
    "    else:\n",
    "        passengers_out.append(ins_outs_per_departure[i])\n",
    "print(f'The number of passenger picked was:{passengers_in}')\n",
    "print(f'The number of passenger descending: {passengers_out}')\n",
    "        \n",
    "for departure in range(len(passengers_in)):\n",
    "    if departure == 0:\n",
    "        bus_capacity.append(passengers_in[departure])\n",
    "        \n",
    "    elif departure > 8:\n",
    "        pass\n",
    "    \n",
    "    else:\n",
    "        bus_capacity.append((passengers_in[departure] + bus_capacity[departure - 1]) - passengers_out[departure])\n",
    "print(bus_capacity)"
   ]
  },
  {
   "cell_type": "markdown",
   "metadata": {},
   "source": [
    "#### 3. Find the maximum occupation of the bus."
   ]
  },
  {
   "cell_type": "code",
   "execution_count": 4,
   "metadata": {},
   "outputs": [
    {
     "name": "stdout",
     "output_type": "stream",
     "text": [
      "The maximum occupation in the bus was 14\n"
     ]
    }
   ],
   "source": [
    "print(f'The maximum occupation in the bus was {max(bus_capacity)}')"
   ]
  },
  {
   "cell_type": "markdown",
   "metadata": {},
   "source": [
    "#### 4. Calculate the average occupation. And the standard deviation."
   ]
  },
  {
   "cell_type": "code",
   "execution_count": 6,
   "metadata": {},
   "outputs": [
    {
     "name": "stdout",
     "output_type": "stream",
     "text": [
      "The average occupation in the bus was: 9.333333333333334\n",
      "Gandalf's standar deviation is: 3.197221015541813\n"
     ]
    }
   ],
   "source": [
    "average = (sum(bus_capacity))/(len(bus_capacity))\n",
    "print(f'The average occupation in the bus was: {average}')\n",
    "\n",
    "bus_sumatory = 0\n",
    "for stop in range(len(bus_capacity)):\n",
    "    bus_sumatory += (bus_capacity[stop] - average)**(2)\n",
    "variance = bus_sumatory/len(bus_capacity)\n",
    "standar_deviation = (variance)**(1/2)\n",
    "print(f'Gandalf\\'s standar deviation is: {standar_deviation}')\n"
   ]
  },
  {
   "cell_type": "code",
   "execution_count": null,
   "metadata": {},
   "outputs": [],
   "source": []
  }
 ],
 "metadata": {
  "kernelspec": {
   "display_name": "Python 3",
   "language": "python",
   "name": "python3"
  },
  "language_info": {
   "codemirror_mode": {
    "name": "ipython",
    "version": 3
   },
   "file_extension": ".py",
   "mimetype": "text/x-python",
   "name": "python",
   "nbconvert_exporter": "python",
   "pygments_lexer": "ipython3",
   "version": "3.8.0"
  }
 },
 "nbformat": 4,
 "nbformat_minor": 2
}
