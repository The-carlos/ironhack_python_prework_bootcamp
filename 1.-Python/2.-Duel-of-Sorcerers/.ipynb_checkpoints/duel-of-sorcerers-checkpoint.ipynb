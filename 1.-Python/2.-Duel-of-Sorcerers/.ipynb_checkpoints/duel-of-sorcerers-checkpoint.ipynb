{
 "cells": [
  {
   "cell_type": "markdown",
   "metadata": {},
   "source": [
    "<img src=\"https://bit.ly/2VnXWr2\" width=\"100\" align=\"left\">"
   ]
  },
  {
   "cell_type": "markdown",
   "metadata": {},
   "source": [
    "# Duel of Sorcerers\n",
    "You are witnessing an epic battle between two powerful sorcerers: Gandalf and Saruman. Each sorcerer has 10 spells of variable power in their mind and they are going to throw them one after the other. The winner of the duel will be the one who wins more of those clashes between spells. Spells are represented as a list of 10 integers whose value equals the power of the spell.\n",
    "```\n",
    "gandalf = [10, 11, 13, 30, 22, 11, 10, 33, 22, 22]\n",
    "saruman = [23, 66, 12, 43, 12, 10, 44, 23, 12, 17]\n",
    "```\n",
    "For example:\n",
    "- The first clash is won by Saruman: 10 against 23.\n",
    "- The second clash is won by Saruman: 11 against 66.\n",
    "- ...\n",
    "\n",
    "You will create two variables, one for each sorcerer, where the sum of clashes won will be stored. Depending on which variable is greater at the end of the duel, you will show one of the following three results on the screen:\n",
    "* Gandalf wins\n",
    "* Saruman wins\n",
    "* Tie\n",
    "\n",
    "<img src=\"images/content_lightning_bolt_big.jpg\" width=\"400\">"
   ]
  },
  {
   "cell_type": "markdown",
   "metadata": {},
   "source": [
    "## Tools\n",
    "You don't necessarily need to use all the tools. Maybe you opt to use some of them or completely different ones, they are given to help you shape the exercise. Programming exercises can be solved in many different ways.\n",
    "\n",
    "1. Data structures: **lists, dictionaries**\n",
    "2. Loop: **for loop**\n",
    "3. Conditional statements: **if-elif-else**\n",
    "4. Functions: **range(), len(), print()**\n",
    "\n",
    "## Tasks\n",
    "\n",
    "#### 1. Create two variables called `gandalf` and `saruman` and assign them the spell power lists. Create a variable called `spells` to store the number of spells that the sorcerers cast. "
   ]
  },
  {
   "cell_type": "code",
   "execution_count": 2,
   "metadata": {},
   "outputs": [],
   "source": [
    "gandalf = [10, 11, 13, 30, 22, 11, 10, 33, 22, 22]\n",
    "saruman = [23, 66, 12, 43, 12, 10, 44, 23, 12, 17]\n",
    "spells = 0"
   ]
  },
  {
   "cell_type": "markdown",
   "metadata": {},
   "source": [
    "#### 2. Create two variables called `gandalf_wins` and `saruman_wins`. Set both of them to 0. \n",
    "You will use these variables to count the number of clashes each sorcerer wins. "
   ]
  },
  {
   "cell_type": "code",
   "execution_count": 13,
   "metadata": {},
   "outputs": [],
   "source": [
    "gandalf_wins = 0\n",
    "saruman_wins = 0"
   ]
  },
  {
   "cell_type": "markdown",
   "metadata": {},
   "source": [
    "#### 3. Using the lists of spells of both sorcerers, update variables `gandalf_wins` and `saruman_wins` to count the number of times each sorcerer wins a clash. "
   ]
  },
  {
   "cell_type": "code",
   "execution_count": 14,
   "metadata": {},
   "outputs": [
    {
     "name": "stdout",
     "output_type": "stream",
     "text": [
      "Gandalf wins the round!\n",
      "Gandalf wins the round!\n",
      "Gandalf wins the round!\n",
      "Gandalf wins the round!\n",
      "Gandalf wins the round!\n",
      "Gandalf wins the round!\n",
      "Saruman wins the round!\n",
      "Gandalf wins the round!\n",
      "Saruman wins the round!\n",
      "Saruman wins the round!\n"
     ]
    }
   ],
   "source": [
    "for spells in range(len(gandalf)):\n",
    "    if (gandalf[spells] > saruman[spells]):\n",
    "        gandalf_wins += 1\n",
    "        print('Gandalf wins the round!')\n",
    "    else:\n",
    "        saruman_wins += 1\n",
    "        print('Saruman wins the round!')"
   ]
  },
  {
   "cell_type": "markdown",
   "metadata": {},
   "source": [
    "\n",
    "\n",
    "#### 4. Who won the battle?\n",
    "Print `Gandalf wins`, `Saruman wins` or `Tie` depending on the result. "
   ]
  },
  {
   "cell_type": "code",
   "execution_count": 15,
   "metadata": {},
   "outputs": [
    {
     "name": "stdout",
     "output_type": "stream",
     "text": [
      "The great sorcer Gandalf just won the battle. With 7 rounds.\n"
     ]
    }
   ],
   "source": [
    "if (saruman_wins > gandalf_wins):\n",
    "    print(f'The great sorcer Saruman just won the battle. With {saruman_wins} rounds.')\n",
    "elif (saruman_wins < gandalf_wins):\n",
    "    print(f'The great sorcer Gandalf just won the battle. With {gandalf_wins} rounds.')\n",
    "else:\n",
    "    print('Tie!')"
   ]
  },
  {
   "cell_type": "markdown",
   "metadata": {},
   "source": [
    "## Bonus\n",
    "\n",
    "In this bonus challenge, you'll need to check the winner of the battle but this time, a sorcerer wins if he succeeds in winning 3 spell clashes in a row.\n",
    "\n",
    "Also, the spells now have a name and there is a dictionary that associates that name to a power.\n",
    "\n",
    "```\n",
    "POWER = {\n",
    "    'Fireball': 50, \n",
    "    'Lightning bolt': 40, \n",
    "    'Magic arrow': 10, \n",
    "    'Black Tentacles': 25, \n",
    "    'Contagion': 45\n",
    "}\n",
    "\n",
    "gandalf = ['Fireball', 'Lightning bolt', 'Lightning bolt', 'Magic arrow', 'Fireball', \n",
    "           'Magic arrow', 'Lightning bolt', 'Fireball', 'Fireball', 'Fireball']\n",
    "saruman = ['Contagion', 'Contagion', 'Black Tentacles', 'Fireball', 'Black Tentacles', \n",
    "           'Lightning bolt', 'Magic arrow', 'Contagion', 'Magic arrow', 'Magic arrow']\n",
    "```\n",
    "\n",
    "#### 1. Create variables `POWER`, `gandalf` and `saruman` as seen above. Create a variable called `spells` to store the number of spells that the sorcerers cast. "
   ]
  },
  {
   "cell_type": "code",
   "execution_count": 1,
   "metadata": {},
   "outputs": [],
   "source": [
    "POWER = {\n",
    "    'Fireball': 50, \n",
    "    'Lightning bolt': 40, \n",
    "    'Magic arrow': 10, \n",
    "    'Black Tentacles': 25, \n",
    "    'Contagion': 45\n",
    "}\n",
    "\n",
    "gandalf = ['Fireball', 'Lightning bolt', 'Lightning bolt', 'Magic arrow', 'Fireball', \n",
    "           'Magic arrow', 'Lightning bolt', 'Fireball', 'Fireball', 'Fireball']\n",
    "saruman = ['Contagion', 'Contagion', 'Black Tentacles', 'Fireball', 'Black Tentacles', \n",
    "           'Lightning bolt', 'Magic arrow', 'Contagion', 'Magic arrow', 'Magic arrow']\n",
    "spells = 0"
   ]
  },
  {
   "cell_type": "markdown",
   "metadata": {},
   "source": [
    "#### 2. Create two variables called `gandalf_wins` and `saruman_wins`. Set both of them to 0. "
   ]
  },
  {
   "cell_type": "code",
   "execution_count": 2,
   "metadata": {},
   "outputs": [],
   "source": [
    "gandalf_wins = 0\n",
    "saruman_wins = 0"
   ]
  },
  {
   "cell_type": "markdown",
   "metadata": {},
   "source": [
    "#### 3. Create two variables called `gandalf_power` and `saruman_power` to store the list of spell powers of each sorcerer."
   ]
  },
  {
   "cell_type": "code",
   "execution_count": 3,
   "metadata": {},
   "outputs": [],
   "source": [
    "gandalf_power = []\n",
    "saruman_power = []"
   ]
  },
  {
   "cell_type": "markdown",
   "metadata": {},
   "source": [
    "#### 4. The battle starts! Using the variables you've created above, code the execution of spell clashes. Remember that a sorcerer wins if he succeeds in winning 3 spell clashes in a row. \n",
    "If a clash ends up in a tie, the counter of wins in a row is not restarted to 0. Remember to print who is the winner of the battle. "
   ]
  },
  {
   "cell_type": "code",
   "execution_count": 4,
   "metadata": {},
   "outputs": [
    {
     "name": "stdout",
     "output_type": "stream",
     "text": [
      "The list of power of each Gandlaf's spells is [50, 40, 40, 10, 50, 10, 40, 50, 50, 50]\n",
      "The list of power of each Saruman's spells is [45, 45, 50, 40, 10, 45, 10, 10]\n",
      "The current power of gandalf is: 50\n",
      "The current power of saruman is: 45\n",
      "Gandalf wins the round and it's winning 1 against 0\n",
      "The current power of gandalf is: 40\n",
      "The current power of saruman is: 45\n",
      "Saruman wins the round and it's winning 1 against 0\n",
      "The current power of gandalf is: 40\n",
      "The current power of saruman is: 50\n",
      "Saruman wins the round and it's winning 2 against 0\n",
      "The current power of gandalf is: 10\n",
      "The current power of saruman is: 40\n",
      "Saruman wins the round and it's winning 3 against 0\n",
      "Saruman wins the battle!\n"
     ]
    }
   ],
   "source": [
    "for spell in range(len(gandalf)):\n",
    "    if (gandalf[spell] == 'Fireball'):\n",
    "        gandalf_power.append(50)\n",
    "    elif (gandalf[spell] == 'Lightning bolt'):\n",
    "        gandalf_power.append(40)\n",
    "    elif (gandalf[spell] == 'Magic arrow'):\n",
    "        gandalf_power.append(10)\n",
    "    elif (gandalf[spell] == 'Black Temtacles'):\n",
    "        gandalf_power.append(25)\n",
    "    elif (gandalf[spell] == 'Contagion'):\n",
    "        gandalf_power.append(45)\n",
    "print(f'The list of power of each Gandlaf\\'s spells is {gandalf_power}')\n",
    "\n",
    "for spell in range(len(saruman)):\n",
    "    if (saruman[spell] == 'Fireball'):\n",
    "        saruman_power.append(50)\n",
    "    elif (saruman[spell] == 'Lightning bolt'):\n",
    "        saruman_power.append(40)\n",
    "    elif (saruman[spell] == 'Magic arrow'):\n",
    "        saruman_power.append(10)\n",
    "    elif (saruman[spell] == 'Black Temtacles'):\n",
    "        saruman_power.append(25)\n",
    "    elif (saruman[spell] == 'Contagion'):\n",
    "        saruman_power.append(45)\n",
    "print(f'The list of power of each Saruman\\'s spells is {saruman_power}')\n",
    "\n",
    "for spells in range(len(gandalf_power)):\n",
    "    print(f'The current power of gandalf is: {gandalf_power[spells]}')\n",
    "    print(f'The current power of saruman is: {saruman_power[spells]}')\n",
    "    if (gandalf_power[spells] > saruman_power[spells]):\n",
    "        gandalf_wins += 1\n",
    "        saruman_wins = 0\n",
    "        print(f'Gandalf wins the round and it\\'s winning {gandalf_wins} against {saruman_wins}')\n",
    "        if (gandalf_wins == 3):\n",
    "            print('Gandalf wins the battle!')\n",
    "            break\n",
    "        else:\n",
    "            pass\n",
    "\n",
    "    elif(gandalf_power[spells] < saruman_power[spells]):\n",
    "        saruman_wins += 1\n",
    "        gandalf_wins = 0\n",
    "        print(f'Saruman wins the round and it\\'s winning {saruman_wins} against {gandalf_wins}')\n",
    "        if (saruman_wins == 3):\n",
    "            print('Saruman wins the battle!')\n",
    "            break\n",
    "        else:\n",
    "            pass\n",
    "    else:\n",
    "        print('Tie!')\n",
    "        pass\n"
   ]
  },
  {
   "cell_type": "markdown",
   "metadata": {},
   "source": [
    "#### 5. Find the average spell power of Gandalf and Saruman. "
   ]
  },
  {
   "cell_type": "code",
   "execution_count": 6,
   "metadata": {},
   "outputs": [
    {
     "name": "stdout",
     "output_type": "stream",
     "text": [
      "The average power of gandalf is: 39.0\n",
      "The average power of saruman is: 31.875\n"
     ]
    }
   ],
   "source": [
    "average_power_gandalf = sum(gandalf_power)/len(gandalf_power)\n",
    "average_power_saruman = sum(saruman_power)/len(saruman_power)\n",
    "print(f'The average power of gandalf is: {average_power_gandalf}')\n",
    "print(f'The average power of saruman is: {average_power_saruman}')"
   ]
  },
  {
   "cell_type": "markdown",
   "metadata": {},
   "source": [
    "#### 6. Find the standard deviation of the spell power of Gandalf and Saruman. "
   ]
  },
  {
   "cell_type": "code",
   "execution_count": 8,
   "metadata": {},
   "outputs": [
    {
     "name": "stdout",
     "output_type": "stream",
     "text": [
      "Gandalf's standar deviation is: 15.132745950421556\n",
      "Saruman's standar deviation is: 17.1277370075559\n"
     ]
    }
   ],
   "source": [
    "saruman_sumatory = 0\n",
    "gandalf_sumatory = 0\n",
    "variance = 0\n",
    "standar_deviation = 0\n",
    "for spells in range(len(gandalf_power)):\n",
    "    gandalf_sumatory += (gandalf_power[spells] - average_power_gandalf)**(2)\n",
    "variance = gandalf_sumatory/len(gandalf_power)\n",
    "standar_deviation = (variance)**(1/2)\n",
    "print(f'Gandalf\\'s standar deviation is: {standar_deviation}')\n",
    "\n",
    "for spells in range(len(saruman_power)):\n",
    "    saruman_sumatory += (saruman_power[spells] - average_power_saruman)**(2)\n",
    "variance = saruman_sumatory/len(saruman_power)\n",
    "standar_deviation = (variance)**(1/2)\n",
    "print(f'Saruman\\'s standar deviation is: {standar_deviation}')"
   ]
  },
  {
   "cell_type": "code",
   "execution_count": null,
   "metadata": {},
   "outputs": [],
   "source": []
  }
 ],
 "metadata": {
  "kernelspec": {
   "display_name": "Python 3",
   "language": "python",
   "name": "python3"
  },
  "language_info": {
   "codemirror_mode": {
    "name": "ipython",
    "version": 3
   },
   "file_extension": ".py",
   "mimetype": "text/x-python",
   "name": "python",
   "nbconvert_exporter": "python",
   "pygments_lexer": "ipython3",
   "version": "3.8.0"
  }
 },
 "nbformat": 4,
 "nbformat_minor": 2
}
