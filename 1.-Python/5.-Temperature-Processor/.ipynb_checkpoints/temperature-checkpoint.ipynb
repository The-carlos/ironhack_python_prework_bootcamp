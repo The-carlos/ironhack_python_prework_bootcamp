{
 "cells": [
  {
   "cell_type": "markdown",
   "metadata": {},
   "source": [
    "<img src=\"https://bit.ly/2VnXWr2\" width=\"100\" align=\"left\">"
   ]
  },
  {
   "cell_type": "markdown",
   "metadata": {},
   "source": [
    "# Temperature Sensor\n",
    "\n",
    "There is a temperature sensor in the processor of your company's server. The company wants to analyze the data provided by the sensor to decide if they should change the cooling system for a better one. As changing the cooling system is expensive and you are an excellent data analyst, you can't make a decision without basis.\n",
    "\n",
    "## Tools\n",
    "You don't necessarily need to use all the tools. Maybe you opt to use some of them or completely different ones, they are given to help you shape the exercise. Programming exercises can be solved in many different ways.\n",
    "1. Data structures: **lists**\n",
    "2. Loops: **list comprehension**\n",
    "3. Functions: **min, max, print, len**\n",
    "4. Conditional statements: **if-elif-else**\n",
    "\n",
    "## Tasks\n",
    "The temperatures measured throughout the 24 hours of a day are:"
   ]
  },
  {
   "cell_type": "code",
   "execution_count": 3,
   "metadata": {},
   "outputs": [],
   "source": [
    "temperatures_C = [33, 66, 65, 0, 59, 60, 62, 64, 70, 76, 80, 81, 80, 83, 90, 79, 61, 53, 50, 49, 53, 48, 45, 39]"
   ]
  },
  {
   "cell_type": "markdown",
   "metadata": {},
   "source": [
    "The first element of the list is the temperature at 12am, the second element is the temperature at 1am, and so on. \n",
    "\n",
    "The company has decided that if one of the following events occurs, then the cooling system needs to be replaced for a new one to avoid damaging the processor.\n",
    "* More than 4 temperatures are greater than or equal to 70ºC.\n",
    "* Any temperature is above 80ºC.\n",
    "* The average temperature exceeds 65ºC.\n",
    "\n",
    "Follow the steps so that you can make the decision.\n",
    "\n",
    "#### 1. Find the minimum temperature of the day and store it in a variable."
   ]
  },
  {
   "cell_type": "code",
   "execution_count": 4,
   "metadata": {},
   "outputs": [
    {
     "name": "stdout",
     "output_type": "stream",
     "text": [
      "0\n"
     ]
    }
   ],
   "source": [
    "minimum_value = min(temperatures_C)\n",
    "print(minimum_value)"
   ]
  },
  {
   "cell_type": "markdown",
   "metadata": {},
   "source": [
    "#### 2. Find the maximum temperature of the day and store it in a variable."
   ]
  },
  {
   "cell_type": "code",
   "execution_count": 5,
   "metadata": {
    "scrolled": true
   },
   "outputs": [
    {
     "name": "stdout",
     "output_type": "stream",
     "text": [
      "90\n"
     ]
    }
   ],
   "source": [
    "maximum_value = max(temperatures_C)\n",
    "print(maximum_value)"
   ]
  },
  {
   "cell_type": "markdown",
   "metadata": {},
   "source": [
    "#### 3. Create a list with the temperatures that are greater than or equal to 70ºC. Store it in a variable."
   ]
  },
  {
   "cell_type": "code",
   "execution_count": 6,
   "metadata": {},
   "outputs": [
    {
     "name": "stdout",
     "output_type": "stream",
     "text": [
      "[70, 76, 80, 81, 80, 83, 90, 79]\n"
     ]
    }
   ],
   "source": [
    "greater_70 = []\n",
    "for value in temperatures_C:\n",
    "    if value >= 70:\n",
    "        greater_70.append(value)\n",
    "print(greater_70)"
   ]
  },
  {
   "cell_type": "markdown",
   "metadata": {},
   "source": [
    "#### 4. Find the average temperature of the day and store it in a variable."
   ]
  },
  {
   "cell_type": "code",
   "execution_count": 7,
   "metadata": {},
   "outputs": [
    {
     "name": "stdout",
     "output_type": "stream",
     "text": [
      "The averge temperature is: 60.25\n"
     ]
    }
   ],
   "source": [
    "average_temperature = sum(temperatures_C)/(len(temperatures_C))\n",
    "print(f'The averge temperature is: {average_temperature}')"
   ]
  },
  {
   "cell_type": "markdown",
   "metadata": {},
   "source": [
    "#### 5. Imagine that there was a sensor failure at 3am and the data for that specific hour was not recorded. How would you estimate the missing value? Replace the current value of the list at 3am for an estimation. "
   ]
  },
  {
   "cell_type": "code",
   "execution_count": 8,
   "metadata": {},
   "outputs": [
    {
     "name": "stdout",
     "output_type": "stream",
     "text": [
      "The temperature with the estimated value is [33, 66, 65, 60.25, 59, 60, 62, 64, 70, 76, 80, 81, 80, 83, 90, 79, 61, 53, 50, 49, 53, 48, 45, 39]\n"
     ]
    }
   ],
   "source": [
    "temperatures_C[3] = average_temperature\n",
    "\n",
    "print(f'The temperature with the estimated value is {temperatures_C}')\n"
   ]
  },
  {
   "cell_type": "markdown",
   "metadata": {},
   "source": [
    "#### 6. Bonus: the maintenance staff is from the United States and does not understand the international metric system. Help them by converting the temperatures from Celsius to Fahrenheit.\n",
    "To know more about temperature conversion check this [link](https://en.wikipedia.org/wiki/Conversion_of_units_of_temperature).\n",
    "\n",
    "**Formula**: \n",
    "\n",
    "$F = 1.8 * C + 32$"
   ]
  },
  {
   "cell_type": "code",
   "execution_count": 9,
   "metadata": {},
   "outputs": [
    {
     "name": "stdout",
     "output_type": "stream",
     "text": [
      "The temperatures in fahrenheit deegrees are: \n",
      "[91.4, 150.8, 149.0, 140.45, 138.2, 140.0, 143.60000000000002, 147.2, 158.0, 168.8, 176.0, 177.8, 176.0, 181.4, 194.0, 174.20000000000002, 141.8, 127.4, 122.0, 120.2, 127.4, 118.4, 113.0, 102.2]\n"
     ]
    }
   ],
   "source": [
    "temperatures_F = []\n",
    "for mesure in temperatures_C:\n",
    "    temperatures_F.append((1.8 * mesure) + 32)\n",
    "    \n",
    "print(f'The temperatures in fahrenheit deegrees are: \\n{temperatures_F}')"
   ]
  },
  {
   "cell_type": "markdown",
   "metadata": {},
   "source": [
    "#### 7. Make a decision!\n",
    "Now it's time to make a decision taking into account what you have seen until now. \n",
    "\n",
    "Remember that if one of the following events occurs, then the cooling system needs to be replaced for a new one to avoid damaging the processor.\n",
    "* More than 4 temperatures are greater than or equal to 70ºC.\n",
    "* Any temperature is above 80ºC.\n",
    "* The average temperature exceeds 65ºC.\n",
    "\n",
    "#### To make your decision, check if any of the three conditions above is met. You might need to use some of the variables you created in steps 1 to 6. Print a message to show if the cooling system needs to be changed or not."
   ]
  },
  {
   "cell_type": "code",
   "execution_count": 10,
   "metadata": {},
   "outputs": [
    {
     "name": "stdout",
     "output_type": "stream",
     "text": [
      "More than 4 temperatures are greater than or equal to 70ºC.\n",
      "The cooling system needs to be replaced.\n"
     ]
    }
   ],
   "source": [
    "event_greather_70 = 0\n",
    "for element in temperatures_C:\n",
    "    if element >= 70:\n",
    "        event_greather_70 += 1\n",
    "        if event_greather_70 == 4:\n",
    "            print('More than 4 temperatures are greater than or equal to 70ºC.\\nThe cooling system needs to be replaced.')\n",
    "            break\n",
    "        else:\n",
    "            pass\n",
    "    elif element > 80:\n",
    "        print('One of the mesurements shows that there\\'s a temperature greather than 80°C.\\nThe cooling system needs to be replaced.')\n",
    "        break\n",
    "    \n",
    "if (sum(temperatures_C)/(len(temperatures_C)) > 65):\n",
    "    print('The average temperature exceeds 65ºC. \\nThe cooling system needs to replaced.')\n",
    "    "
   ]
  },
  {
   "cell_type": "markdown",
   "metadata": {},
   "source": [
    "## Bonus\n",
    "\n",
    "The company has decided that the decision you made is not valid. They want you to analyze the data again but this time, the conditions that need to be met in order to change the cooling system are different.\n",
    "\n",
    "This time, if one of the following events occurs, then the cooling system needs to be replaced:\n",
    "* The temperature is greater than 70ºC during more than 4 consecutive hours.\n",
    "* Any temperature is above 80ºC.\n",
    "* The average temperature exceeds 65ºC.\n",
    "\n",
    "Follow the steps so that you can make the decision.\n",
    "\n",
    "#### 1. Create a list with the hours where the temperature is greater than 70ºC. Store it in a variable."
   ]
  },
  {
   "cell_type": "code",
   "execution_count": 11,
   "metadata": {},
   "outputs": [],
   "source": [
    "times_temperature_greather_70 = 0\n",
    "\n",
    "for measure in temperatures_C:\n",
    "    if measure > 70:\n",
    "        times_temperature_greather_70 += 1\n",
    "        if times_temperature_greather_70 > 4:\n",
    "            break\n",
    "    else:\n",
    "        times_temperature_greather_70 = 0\n",
    "        \n"
   ]
  },
  {
   "cell_type": "markdown",
   "metadata": {},
   "source": [
    "#### 2. Check if the list you created in step 1 has more than 4 consecutive hours. "
   ]
  },
  {
   "cell_type": "code",
   "execution_count": 12,
   "metadata": {},
   "outputs": [
    {
     "name": "stdout",
     "output_type": "stream",
     "text": [
      "5\n"
     ]
    }
   ],
   "source": [
    "print(times_temperature_greather_70)"
   ]
  },
  {
   "cell_type": "markdown",
   "metadata": {},
   "source": [
    "#### 3. Make the decision!\n",
    "To make your decision, check if any of the three conditions is met. Print a message to show if the cooling system needs to be changed or not."
   ]
  },
  {
   "cell_type": "code",
   "execution_count": 13,
   "metadata": {},
   "outputs": [
    {
     "name": "stdout",
     "output_type": "stream",
     "text": [
      "At least one measure is above 80ºC.\n",
      "The cooling system needs to be replaced.\n"
     ]
    }
   ],
   "source": [
    "measuregreater_80 = 0\n",
    "\n",
    "\n",
    "for measure in temperatures_C:\n",
    "    if measure > 80:\n",
    "        measuregreater_80 += 1\n",
    "\n",
    "if measuregreater_80 > 0:\n",
    "    print('At least one measure is above 80ºC.\\nThe cooling system needs to be replaced.')\n",
    "\n",
    "elif (sum(temperatures_C)/(len(temperatures_C))) > 65:\n",
    "    print('The average temperature exceeds 65ºC.\\nThe cooling system needs to be replaced.')\n",
    "    \n",
    "elif times_temperature_greather_70 > 4:\n",
    "    print('The temperature is greater than 70ºC during more than 4 consecutive hours.\\nThe cooling system needs to be replaced.')\n",
    "    \n"
   ]
  },
  {
   "cell_type": "markdown",
   "metadata": {},
   "source": [
    "#### 4. Find the average value of the temperature lists (ºC and ºF). What is the relation between both average values?"
   ]
  },
  {
   "cell_type": "code",
   "execution_count": 14,
   "metadata": {},
   "outputs": [
    {
     "name": "stdout",
     "output_type": "stream",
     "text": [
      "The average temperature in Celsius deegrees is: 62.760416666666664\n",
      "The average temperature in Farhenheid deegrees is: 144.96875\n",
      "The relation between both averages is: 0.4329237623050945\n"
     ]
    }
   ],
   "source": [
    "average_temperatures_F = (sum(temperatures_F)/len(temperatures_F))\n",
    "average_temperatures_C = (sum(temperatures_C)/len(temperatures_C))\n",
    "\n",
    "print(f'The average temperature in Celsius deegrees is: {average_temperatures_C}')\n",
    "print(f'The average temperature in Farhenheid deegrees is: {average_temperatures_F}')\n",
    "print(f'The relation between both averages is: {average_temperatures_C/average_temperatures_F}')"
   ]
  },
  {
   "cell_type": "markdown",
   "metadata": {},
   "source": [
    "#### 5. Find the standard deviation of the temperature lists (ºC and ºF). What is the relation between both standard deviations?"
   ]
  },
  {
   "cell_type": "code",
   "execution_count": 16,
   "metadata": {},
   "outputs": [
    {
     "name": "stdout",
     "output_type": "stream",
     "text": [
      "Standar deviation for temperatures in Celcius deegrees is: 14.64181354863719\n",
      "Standar deviation for temperatures in Faren deegrees is: 26.35526438754694\n",
      "The realtion between both measures is: 0.5555555555555556\n"
     ]
    }
   ],
   "source": [
    "sumatory = 0\n",
    "for measure in range(len(temperatures_C)):\n",
    "    sumatory += (temperatures_C[measure] - average_temperatures_C)**(2)\n",
    "variance = sumatory/len(temperatures_C)\n",
    "standar_deviation_C = (variance)**(1/2)\n",
    "\n",
    "print(f'Standar deviation for temperatures in Celcius deegrees is: {standar_deviation_C}')\n",
    "\n",
    "sumatory = 0\n",
    "for measure in range(len(temperatures_F)):\n",
    "    sumatory += (temperatures_F[measure] - average_temperatures_F)**(2)\n",
    "variance = sumatory/len(temperatures_F)\n",
    "standar_deviation_F = (variance)**(1/2)\n",
    "\n",
    "print(f'Standar deviation for temperatures in Faren deegrees is: {standar_deviation_F}')\n",
    "print(f'The realtion between both measures is: {standar_deviation_C/standar_deviation_F}')"
   ]
  },
  {
   "cell_type": "code",
   "execution_count": null,
   "metadata": {},
   "outputs": [],
   "source": []
  }
 ],
 "metadata": {
  "kernelspec": {
   "display_name": "Python 3",
   "language": "python",
   "name": "python3"
  },
  "language_info": {
   "codemirror_mode": {
    "name": "ipython",
    "version": 3
   },
   "file_extension": ".py",
   "mimetype": "text/x-python",
   "name": "python",
   "nbconvert_exporter": "python",
   "pygments_lexer": "ipython3",
   "version": "3.8.0"
  }
 },
 "nbformat": 4,
 "nbformat_minor": 2
}
