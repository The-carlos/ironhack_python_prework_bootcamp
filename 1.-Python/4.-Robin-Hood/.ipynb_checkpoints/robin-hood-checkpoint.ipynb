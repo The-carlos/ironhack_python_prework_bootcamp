{
 "cells": [
  {
   "cell_type": "markdown",
   "metadata": {},
   "source": [
    "<img src=\"https://bit.ly/2VnXWr2\" width=\"100\" align=\"left\"/>"
   ]
  },
  {
   "cell_type": "markdown",
   "metadata": {},
   "source": [
    "# Robin Hood\n",
    "Robin Hood has entered a competition to win the archery contest in Sherwood. With his bow and arrows, he needs to shoot on a target and try to hit as close as possible to the center.\n",
    "\n",
    "![](images/arrows.jpg)\n",
    "\n",
    "## Context\n",
    "In this challenge, the landing position of arrows shot by archers in the competition will be represented using 2-dimensional coordinates. \n",
    "\n",
    "In the 2-dimensional space, a point can be defined by a pair of values that correspond to the horizontal coordinate (x) and the vertical coordinate (y). For example, in our case, an arrow that hits the center of the archery target will land in position (0, 0) on the coordinate axes. \n",
    "\n",
    "The space can be divided into 4 zones (quadrants): Q1, Q2, Q3, Q4. If a point is in Q1, both its x coordinate and y coordinate are positive. Any point with a null x or y coordinate is considered to not belong to any quadrant. \n",
    "\n",
    "If you want to know more about the cartesian coordinate system, you can check this [link](https://en.wikipedia.org/wiki/Cartesian_coordinate_system). \n",
    "\n",
    "## Tools\n",
    "You don't necessarily need to use all the tools. Maybe you opt to use some of them or completely different ones, they are given to help you shape the exercise. Programming exercises can be solved in many different ways.\n",
    "* Data structures: **lists, sets, tuples**\n",
    "* Conditional statements: **if-elif-else**\n",
    "* Loop: **while/for**\n",
    "* Minimum (optional sorting)\n",
    "\n",
    "## Tasks\n",
    "Robin Hood has hit the following points:"
   ]
  },
  {
   "cell_type": "code",
   "execution_count": 39,
   "metadata": {},
   "outputs": [],
   "source": [
    "points = [(4, 5), (-0, 2), (4, 7), (1, -3), (3, -2), (4, 5), (3, 2), (5, 7), (-5, 7), (2, 2), (-4, 5), (0, -2),\n",
    "          (-4, 7), (-1, 3), (-3, 2), (-4, -5), (-3, 2), (5, 7), (5, 7), (2, 2), (9, 9), (-8, -9)]"
   ]
  },
  {
   "cell_type": "markdown",
   "metadata": {},
   "source": [
    "#### 1. Robin Hood is famous for hitting an arrow with another arrow. Find the coordinates of the points where an arrow hits another arrow."
   ]
  },
  {
   "cell_type": "code",
   "execution_count": 40,
   "metadata": {},
   "outputs": [
    {
     "name": "stdout",
     "output_type": "stream",
     "text": [
      "The points where an arrow hits another arrow are: {(4, 5), (5, 7), (2, 2), (-3, 2)}\n"
     ]
    }
   ],
   "source": [
    "\n",
    "arrow_hits_arrow = set()\n",
    "for shot in points:\n",
    "    if points.count(shot) > 1:\n",
    "        arrow_hits_arrow.add(shot)\n",
    "   \n",
    "print(f'The points where an arrow hits another arrow are: {arrow_hits_arrow}')\n"
   ]
  },
  {
   "cell_type": "markdown",
   "metadata": {},
   "source": [
    "#### 2. Calculate how many arrows have fallen in each quadrant. \n",
    "**Note**: the arrows that fall in the axis (x=0 or y=0) don't belong to any quadrant."
   ]
  },
  {
   "cell_type": "code",
   "execution_count": 41,
   "metadata": {},
   "outputs": [
    {
     "name": "stdout",
     "output_type": "stream",
     "text": [
      "There are 10 arrows in the quadrant Q1\n",
      "There are 2 arrows in the quadrant Q2\n",
      "There are 6 arrows in the quadrant Q3\n",
      "There are 2 arrows in the quadrant Q4\n",
      "In total 20 arrows hited the plattaform\n"
     ]
    }
   ],
   "source": [
    "x = []\n",
    "y = []\n",
    "Q1 = 0\n",
    "Q2 = 0\n",
    "Q3 = 0\n",
    "Q4 = 0\n",
    "\n",
    "for shot in points:\n",
    "    for coordinate in range(len(shot)):\n",
    "        if coordinate == 0:\n",
    "            x.append(shot[coordinate])\n",
    "        else:\n",
    "            y.append(shot[coordinate])\n",
    "            \n",
    "for coordinate in range(len(x)):\n",
    "    if(x[coordinate] > 0 and y[coordinate] > 0):\n",
    "        Q1 += 1\n",
    "        #print(f'Point {x[coordinate]},{y[coordinate]} to Q1.')\n",
    "    elif (x[coordinate] > 0 and y[coordinate] < 0):\n",
    "        Q2 +=1\n",
    "        #print(f'Point {x[coordinate]},{y[coordinate]} to Q2.')\n",
    "    elif (x[coordinate] < 0 and y[coordinate] > 0):\n",
    "        Q3 +=1\n",
    "        #print(f'Point {x[coordinate]},{y[coordinate]} to Q3.')\n",
    "    elif (x[coordinate] < 0 and y[coordinate] < 0):\n",
    "        Q4 +=1\n",
    "        #print(f'Point {x[coordinate]},{y[coordinate]} to Q4.')\n",
    "\n",
    "print(f'There are {Q1} arrows in the quadrant Q1')\n",
    "print(f'There are {Q2} arrows in the quadrant Q2')\n",
    "print(f'There are {Q3} arrows in the quadrant Q3')\n",
    "print(f'There are {Q4} arrows in the quadrant Q4')\n",
    "print(f'In total {Q1+Q2+Q3+Q4} arrows hited the plattaform')"
   ]
  },
  {
   "cell_type": "markdown",
   "metadata": {},
   "source": [
    "#### 3. Find the point closest to the center. Calculate its distance to the center. \n",
    "Take into account that there might be more than one point at the minimum distance to the center.\n",
    "\n",
    "**Hint**: Use the Euclidean distance. You can find more information about it [here](https://en.wikipedia.org/wiki/Euclidean_distance).  \n",
    "**Hint**: Defining a function that calculates the distance to the center can help."
   ]
  },
  {
   "cell_type": "code",
   "execution_count": 42,
   "metadata": {},
   "outputs": [
    {
     "name": "stdout",
     "output_type": "stream",
     "text": [
      "The shot 2 is the closest shoted\n",
      "The shot 12 is the closest shoted\n"
     ]
    }
   ],
   "source": [
    "def distance_finder(x,y):\n",
    "    distances = []\n",
    "\n",
    "    for point in range(len(x)):\n",
    "        distances.append(((x[point])**2 + (y[point])**2)**(1/2))\n",
    "    return(distances)\n",
    "\n",
    "lenghts = distance_finder(x,y)\n",
    "\n",
    "lenghts_sorted = lenghts.copy()\n",
    "lenghts_sorted.sort()\n",
    "\n",
    "\n",
    "for lenght in range(len(lenghts)):\n",
    "    if lenghts[lenght] == lenghts_sorted[0]:\n",
    "        print(f'The shot {lenght+1} is the closest shoted')\n",
    "\n",
    "    "
   ]
  },
  {
   "cell_type": "markdown",
   "metadata": {},
   "source": [
    "#### 4. If the archery target has a radius of 9, calculate the number of arrows that won't hit the target. \n",
    "**Hint**: Use the function created in step 3. "
   ]
  },
  {
   "cell_type": "code",
   "execution_count": 44,
   "metadata": {},
   "outputs": [
    {
     "name": "stdout",
     "output_type": "stream",
     "text": [
      "2 arrows didn't hit the target.\n"
     ]
    }
   ],
   "source": [
    "not_hitted_arrow = 0\n",
    "lenghts = distance_finder(x,y)\n",
    "\n",
    "for lenght in lenghts:\n",
    "    if lenght > 9:\n",
    "        not_hitted_arrow += 1\n",
    "print(f'{not_hitted_arrow} arrows didn\\'t hit the target.')"
   ]
  },
  {
   "cell_type": "code",
   "execution_count": null,
   "metadata": {},
   "outputs": [],
   "source": []
  }
 ],
 "metadata": {
  "kernelspec": {
   "display_name": "Python 3",
   "language": "python",
   "name": "python3"
  },
  "language_info": {
   "codemirror_mode": {
    "name": "ipython",
    "version": 3
   },
   "file_extension": ".py",
   "mimetype": "text/x-python",
   "name": "python",
   "nbconvert_exporter": "python",
   "pygments_lexer": "ipython3",
   "version": "3.8.0"
  }
 },
 "nbformat": 4,
 "nbformat_minor": 2
}
